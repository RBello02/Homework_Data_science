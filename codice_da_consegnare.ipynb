{
 "cells": [
  {
   "cell_type": "markdown",
   "metadata": {},
   "source": [
    "# **EXTIMATING THE AGE OF PEOPLE FROM VOCAL RECORDINGS**\n",
    "BELLO RENATO and CHIODO MARTINA"
   ]
  },
  {
   "cell_type": "code",
   "execution_count": 35,
   "metadata": {},
   "outputs": [],
   "source": [
    "# importing the modules we will nedd --> TOGLIERE QUELLE SUPERFLUE!!!!!!!!!!\n",
    "import csv\n",
    "import pandas as pd\n",
    "import matplotlib.pyplot as plt\n",
    "import seaborn as sns\n",
    "import numpy as np\n",
    "%matplotlib inline\n",
    "\n",
    "from sklearn.model_selection import cross_val_score, train_test_split, GridSearchCV\n",
    "\n",
    "from sklearn.decomposition import PCA\n",
    "from sklearn.metrics import root_mean_squared_error, r2_score, mean_squared_error\n",
    "\n",
    "from sklearn.linear_model import LinearRegression, Lasso, Ridge, ElasticNet\n",
    "from sklearn.ensemble import RandomForestRegressor, GradientBoostingRegressor\n",
    "from sklearn.neural_network import MLPRegressor\n",
    "from sklearn.svm import SVR\n",
    "from sklearn.neighbors import KNeighborsRegressor\n",
    "\n",
    "from sklearn.feature_selection import RFE, SelectKBest, f_regression\n",
    "from sklearn.preprocessing import PolynomialFeatures, StandardScaler, FunctionTransformer\n",
    "from sklearn.pipeline import make_pipeline, Pipeline\n",
    "\n",
    "from modules.extract_feature import new_csv_with_audio_extracted_features"
   ]
  },
  {
   "cell_type": "markdown",
   "metadata": {},
   "source": [
    "## **EXTRACTION OF SIGNIFICATIVE FEATURES FROM THE RECORDINGS**"
   ]
  },
  {
   "cell_type": "code",
   "execution_count": null,
   "metadata": {},
   "outputs": [
    {
     "name": "stdout",
     "output_type": "stream",
     "text": [
      "datasets/audios_development/1.wav\n",
      "datasets/audios_development/2.wav\n",
      "datasets/audios_development/3.wav\n",
      "datasets/audios_development/4.wav\n",
      "datasets/audios_development/5.wav\n",
      "File saved as development_features.csv\n",
      "datasets/audios_evaluation/1.wav\n",
      "datasets/audios_evaluation/2.wav\n",
      "datasets/audios_evaluation/3.wav\n",
      "File saved as evaluation_features.csv\n"
     ]
    }
   ],
   "source": [
    "# For convenience, we decided to write new csv containing all the features contained in the given dataset plus the features extracted by the audio recordings \n",
    "num_segm = 20\n",
    "new_csv_with_audio_extracted_features(num_segmentation=num_segm)"
   ]
  },
  {
   "cell_type": "markdown",
   "metadata": {},
   "source": [
    "## **DATA EXPLORATION**"
   ]
  },
  {
   "cell_type": "code",
   "execution_count": 19,
   "metadata": {},
   "outputs": [],
   "source": [
    "# Loading the datasets from the previously csv created\n",
    "data_dev = pd.read_csv(f'datasets/development_features_{num_segm}.csv')\n",
    "data_eval = pd.read_csv(f'datasets/evaluation_features_{num_segm}.csv')\n"
   ]
  },
  {
   "cell_type": "markdown",
   "metadata": {},
   "source": [
    "## **PREPROCESSING**"
   ]
  }
 ],
 "metadata": {
  "kernelspec": {
   "display_name": "ambiente_virtuale",
   "language": "python",
   "name": "python3"
  },
  "language_info": {
   "codemirror_mode": {
    "name": "ipython",
    "version": 3
   },
   "file_extension": ".py",
   "mimetype": "text/x-python",
   "name": "python",
   "nbconvert_exporter": "python",
   "pygments_lexer": "ipython3",
   "version": "3.12.6"
  }
 },
 "nbformat": 4,
 "nbformat_minor": 2
}
